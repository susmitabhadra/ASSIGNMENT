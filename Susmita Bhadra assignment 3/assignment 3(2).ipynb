{
 "cells": [
  {
   "cell_type": "markdown",
   "metadata": {},
   "source": [
    "QUESTION 2:\n",
    "    Accept two lists of 5 elements each from user.\n",
    "    convert them to a numpy array. concatenate these arrays and print it. Also these arrays and print it."
   ]
  },
  {
   "cell_type": "code",
   "execution_count": 7,
   "metadata": {},
   "outputs": [
    {
     "name": "stdout",
     "output_type": "stream",
     "text": [
      "9\n",
      "6\n",
      "9\n",
      "3\n",
      "8\n",
      "[9, 6, 9, 3, 8]\n",
      "0\n",
      "5\n",
      "6\n",
      "1\n",
      "2\n",
      "[0, 5, 6, 1, 2]\n",
      "[9 6 9 3 8]\n",
      "[0 5 6 1 2]\n",
      "<class 'numpy.ndarray'>\n",
      "<class 'numpy.ndarray'>\n",
      "[9 6 9 3 8 0 5 6 1 2]\n",
      "[0 1 2 3 5 6 6 8 9 9]\n"
     ]
    }
   ],
   "source": [
    "lst1=[]\n",
    "for i in range(5):\n",
    "    ele1=int(input())\n",
    "    lst1.append(ele1)\n",
    "print(lst1)\n",
    "\n",
    "lst2=[]\n",
    "for i in range(5):\n",
    "    ele2=int(input())\n",
    "    lst2.append(ele2)\n",
    "print(lst2)\n",
    "import numpy\n",
    "import numpy as np\n",
    "arr1=np.array(lst1)\n",
    "arr2=np.array(lst2)\n",
    "print(arr1)\n",
    "print(arr2)\n",
    "print(type(arr1))\n",
    "print(type(arr2))\n",
    "arr=np.concatenate((arr1,arr2))\n",
    "print(\"The concatenate form of those arrays\",arr)\n",
    "arr.sort()\n",
    "print(\"The sortage form of those arrays\",arr)\n",
    "\n",
    "\n"
   ]
  },
  {
   "cell_type": "markdown",
   "metadata": {},
   "source": [
    "QUESTION 3:\n",
    "Write a snippet to find the dimension of a ndarray and its size."
   ]
  },
  {
   "cell_type": "code",
   "execution_count": 10,
   "metadata": {},
   "outputs": [
    {
     "name": "stdout",
     "output_type": "stream",
     "text": [
      "[[2 3 5]\n",
      " [6 8 9]\n",
      " [3 7 0]]\n",
      "Dimension of the array: 2\n",
      "Size of the array: 9\n"
     ]
    }
   ],
   "source": [
    "arr=np.array([[2,3,5],[6,8,9],[3,7,0]])\n",
    "print(arr)\n",
    "print(\"Dimension of the array:\",arr.ndim)\n",
    "print(\"Size of the array:\",arr.size)"
   ]
  },
  {
   "cell_type": "markdown",
   "metadata": {},
   "source": [
    "QUESTION 4:\n",
    "How to convert a 1D array into 2D array? Demonstrate with the help of a code snippet.\n",
    "    "
   ]
  },
  {
   "cell_type": "code",
   "execution_count": 7,
   "metadata": {},
   "outputs": [
    {
     "name": "stdout",
     "output_type": "stream",
     "text": [
      "10\n",
      "Test 1D array (shape) (10,)\n",
      "Test 2D array for row is: (1, 10)\n",
      "Test 2D array for column is: (10, 1)\n"
     ]
    }
   ],
   "source": [
    "import numpy as np\n",
    "arr=np.arange(int(input()))\n",
    "print(\"Test 1D array (shape)\",arr.shape)\n",
    "twod_array_row=arr[np.newaxis,:]\n",
    "print(\"Test 2D array for row is:\",twod_array_row.shape)\n",
    "twod_array_col=arr[:,np.newaxis]\n",
    "print(\"Test 2D array for column is:\",twod_array_col.shape)\n",
    "\n",
    "\n",
    "\n"
   ]
  },
  {
   "cell_type": "markdown",
   "metadata": {},
   "source": [
    "QUESTION 5:\n",
    "Consider two square numpy arrays. Stack them vertically and horizontally."
   ]
  },
  {
   "cell_type": "code",
   "execution_count": 14,
   "metadata": {},
   "outputs": [
    {
     "name": "stdout",
     "output_type": "stream",
     "text": [
      "[[6 8 3]\n",
      " [7 9 0]\n",
      " [5 7 2]]\n",
      "[[7 9 0]\n",
      " [3 7 1]\n",
      " [2 5 3]]\n",
      "output horizontally stacked array:\n",
      " [[6 8 3 7 9 0]\n",
      " [7 9 0 3 7 1]\n",
      " [5 7 2 2 5 3]]\n",
      "output vertically stacked array:\n",
      " [[6 8 3]\n",
      " [7 9 0]\n",
      " [5 7 2]\n",
      " [7 9 0]\n",
      " [3 7 1]\n",
      " [2 5 3]]\n"
     ]
    }
   ],
   "source": [
    "import numpy as geek\n",
    "arr1=geek.array([[6,8,3],[7,9,0],[5,7,2]])\n",
    "print(arr1)\n",
    "arr2=geek.array([[7,9,0],[3,7,1],[2,5,3]])\n",
    "print(arr2)\n",
    "arr_hs=geek.hstack((arr1,arr2))\n",
    "print(\"output horizontally stacked array:\\n\",arr_hs )\n",
    "arr_vr=geek.vstack((arr1,arr2))\n",
    "print(\"output vertically stacked array:\\n\",arr_vr)\n"
   ]
  },
  {
   "cell_type": "markdown",
   "metadata": {},
   "source": [
    "QUESTION 6:\n",
    "How to get unique items and counts of unique items."
   ]
  },
  {
   "cell_type": "code",
   "execution_count": 3,
   "metadata": {},
   "outputs": [
    {
     "name": "stdout",
     "output_type": "stream",
     "text": [
      "unique numbers: [0, 1, 3, 4, 6, 7, 9]\n"
     ]
    }
   ],
   "source": [
    "lst=[1,6,6,9,0,9,3,0,4,7]\n",
    "\n",
    "my_set=set(lst)\n",
    "my_new_list= list(my_set)\n",
    "print(\"unique numbers:\",my_new_list)\n"
   ]
  },
  {
   "cell_type": "code",
   "execution_count": 6,
   "metadata": {},
   "outputs": [
    {
     "name": "stdout",
     "output_type": "stream",
     "text": [
      "7\n"
     ]
    }
   ],
   "source": [
    "lst=[1,6,6,9,0,9,3,0,4,7]\n",
    "ll=[]\n",
    "count=0\n",
    "\n",
    "for i in lst:\n",
    "    if i not in ll:\n",
    "        \n",
    "        count+=1\n",
    "        ll.append(i)\n",
    "    \n",
    "print(count)\n",
    "\n",
    "    "
   ]
  },
  {
   "cell_type": "code",
   "execution_count": null,
   "metadata": {},
   "outputs": [],
   "source": []
  }
 ],
 "metadata": {
  "kernelspec": {
   "display_name": "Python 3",
   "language": "python",
   "name": "python3"
  },
  "language_info": {
   "codemirror_mode": {
    "name": "ipython",
    "version": 3
   },
   "file_extension": ".py",
   "mimetype": "text/x-python",
   "name": "python",
   "nbconvert_exporter": "python",
   "pygments_lexer": "ipython3",
   "version": "3.8.3"
  }
 },
 "nbformat": 4,
 "nbformat_minor": 4
}
